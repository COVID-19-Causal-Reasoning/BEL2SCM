{
 "cells": [
  {
   "cell_type": "code",
   "execution_count": 1,
   "metadata": {},
   "outputs": [],
   "source": [
    "from bel2scm.probability_dsl import *"
   ]
  },
  {
   "cell_type": "code",
   "execution_count": 2,
   "metadata": {},
   "outputs": [],
   "source": [
    "One()"
   ]
  },
  {
   "cell_type": "code",
   "execution_count": 3,
   "metadata": {},
   "outputs": [],
   "source": [
    "P(A)"
   ]
  },
  {
   "cell_type": "code",
   "execution_count": 4,
   "metadata": {},
   "outputs": [],
   "source": [
    "P(A @ W)"
   ]
  },
  {
   "cell_type": "code",
   "execution_count": 5,
   "metadata": {},
   "outputs": [
    {
     "data": {
      "text/latex": [
       "$P(A_{W^*})$"
      ],
      "text/plain": [
       "<bel2scm.probability_dsl.Probability at 0x105534220>"
      ]
     },
     "execution_count": 5,
     "metadata": {},
     "output_type": "execute_result"
    }
   ],
   "source": [
    "P(A @ ~W)"
   ]
  },
  {
   "cell_type": "code",
   "execution_count": 6,
   "metadata": {},
   "outputs": [
    {
     "data": {
      "text/latex": [
       "$P(A_{W^*,X})$"
      ],
      "text/plain": [
       "<bel2scm.probability_dsl.Probability at 0x105534610>"
      ]
     },
     "execution_count": 6,
     "metadata": {},
     "output_type": "execute_result"
    }
   ],
   "source": [
    "P(A @ ~W @ X)"
   ]
  },
  {
   "cell_type": "code",
   "execution_count": 7,
   "metadata": {},
   "outputs": [
    {
     "data": {
      "text/latex": [
       "$P(A,B)$"
      ],
      "text/plain": [
       "<bel2scm.probability_dsl.Probability at 0x105534a60>"
      ]
     },
     "execution_count": 7,
     "metadata": {},
     "output_type": "execute_result"
    }
   ],
   "source": [
    "P([A, B])"
   ]
  },
  {
   "cell_type": "code",
   "execution_count": 8,
   "metadata": {},
   "outputs": [
    {
     "data": {
      "text/latex": [
       "$P(A|B)$"
      ],
      "text/plain": [
       "<bel2scm.probability_dsl.Probability at 0x1054c3a90>"
      ]
     },
     "execution_count": 8,
     "metadata": {},
     "output_type": "execute_result"
    }
   ],
   "source": [
    "P(A | B)"
   ]
  },
  {
   "cell_type": "code",
   "execution_count": 9,
   "metadata": {},
   "outputs": [
    {
     "data": {
      "text/latex": [
       "$\\frac{1}{P(A|B)}$"
      ],
      "text/plain": [
       "Fraction(numerator=<bel2scm.probability_dsl.One object at 0x1054f0ca0>, denominator=<bel2scm.probability_dsl.Probability object at 0x1054f06a0>)"
      ]
     },
     "execution_count": 9,
     "metadata": {},
     "output_type": "execute_result"
    }
   ],
   "source": [
    "One() / P(A | B)"
   ]
  },
  {
   "cell_type": "code",
   "execution_count": 10,
   "metadata": {},
   "outputs": [
    {
     "data": {
      "text/latex": [
       "$\\frac{P(A)}{P(A|B)}$"
      ],
      "text/plain": [
       "Fraction(numerator=<bel2scm.probability_dsl.Probability object at 0x105534f70>, denominator=<bel2scm.probability_dsl.Probability object at 0x105534f40>)"
      ]
     },
     "execution_count": 10,
     "metadata": {},
     "output_type": "execute_result"
    }
   ],
   "source": [
    "(One() / P(A | B)) * P(A)"
   ]
  },
  {
   "cell_type": "code",
   "execution_count": 11,
   "metadata": {},
   "outputs": [
    {
     "data": {
      "text/latex": [
       "$P(A|B)$"
      ],
      "text/plain": [
       "<bel2scm.probability_dsl.Probability at 0x105534a00>"
      ]
     },
     "execution_count": 11,
     "metadata": {},
     "output_type": "execute_result"
    }
   ],
   "source": [
    "One() * P(A | B)"
   ]
  },
  {
   "cell_type": "code",
   "execution_count": 12,
   "metadata": {},
   "outputs": [
    {
     "data": {
      "text/latex": [
       "$P(A|B) P(B)$"
      ],
      "text/plain": [
       "Product(expressions=[<bel2scm.probability_dsl.Probability object at 0x10553e0a0>, <bel2scm.probability_dsl.Probability object at 0x10553e100>])"
      ]
     },
     "execution_count": 12,
     "metadata": {},
     "output_type": "execute_result"
    }
   ],
   "source": [
    "P(A | B) * P(B)"
   ]
  },
  {
   "cell_type": "code",
   "execution_count": 13,
   "metadata": {},
   "outputs": [
    {
     "data": {
      "text/latex": [
       "$\\sum_{B} P(A|B)$"
      ],
      "text/plain": [
       "Sum(expression=<bel2scm.probability_dsl.Probability object at 0x10553e400>, ranges=[Variable(name='B')])"
      ]
     },
     "execution_count": 13,
     "metadata": {},
     "output_type": "execute_result"
    }
   ],
   "source": [
    "Sum[B](P(A | B))"
   ]
  },
  {
   "cell_type": "code",
   "execution_count": 14,
   "metadata": {},
   "outputs": [
    {
     "data": {
      "text/latex": [
       "$\\sum_{S,T} P(A|B) \\sum_{Q} P(C|D)$"
      ],
      "text/plain": [
       "Sum(expression=Product(expressions=[<bel2scm.probability_dsl.Probability object at 0x10553eb50>, Sum(expression=<bel2scm.probability_dsl.Probability object at 0x10553ea60>, ranges=[Variable(name='Q')])]), ranges=[Variable(name='S'), Variable(name='T')])"
      ]
     },
     "execution_count": 14,
     "metadata": {},
     "output_type": "execute_result"
    }
   ],
   "source": [
    "Sum(P(A | B) * Sum(P(C | D), [Q]), [S, T])"
   ]
  },
  {
   "cell_type": "code",
   "execution_count": 15,
   "metadata": {},
   "outputs": [
    {
     "data": {
      "text/latex": [
       "$\\sum_{W} P(Y_{Z^*,W},X) P(D) P(Z_{D}) P(W_{X^*})$"
      ],
      "text/plain": [
       "Sum(expression=Product(expressions=[<bel2scm.probability_dsl.Probability object at 0x1055497c0>, <bel2scm.probability_dsl.Probability object at 0x105549880>, <bel2scm.probability_dsl.Probability object at 0x105549940>, <bel2scm.probability_dsl.Probability object at 0x1055498e0>]), ranges=[Variable(name='W')])"
      ]
     },
     "execution_count": 15,
     "metadata": {},
     "output_type": "execute_result"
    }
   ],
   "source": [
    "Sum(P((V['Y'] @ ~V['Z'] @ V['W']) & V['X']) * P(V['D']) * P(V['Z'] @ V['D']) * P(V['W'] @ ~V['X']), [V['W']])"
   ]
  },
  {
   "cell_type": "code",
   "execution_count": 16,
   "metadata": {},
   "outputs": [
    {
     "data": {
      "text/latex": [
       "$\\frac{P(A) P(D)}{P(B) P(C)}$"
      ],
      "text/plain": [
       "Fraction(numerator=Product(expressions=[<bel2scm.probability_dsl.Probability object at 0x105534130>, <bel2scm.probability_dsl.Probability object at 0x105534fd0>]), denominator=Product(expressions=[<bel2scm.probability_dsl.Probability object at 0x105534b50>, <bel2scm.probability_dsl.Probability object at 0x105534c70>]))"
      ]
     },
     "execution_count": 16,
     "metadata": {},
     "output_type": "execute_result"
    }
   ],
   "source": [
    "(P(A) / P(B)) / (P(C) / P(D))"
   ]
  }
 ],
 "metadata": {
  "kernelspec": {
   "display_name": "Python 3",
   "language": "python",
   "name": "python3"
  },
  "language_info": {
   "codemirror_mode": {
    "name": "ipython",
    "version": 3
   },
   "file_extension": ".py",
   "mimetype": "text/x-python",
   "name": "python",
   "nbconvert_exporter": "python",
   "pygments_lexer": "ipython3",
   "version": "3.8.6"
  }
 },
 "nbformat": 4,
 "nbformat_minor": 4
}
