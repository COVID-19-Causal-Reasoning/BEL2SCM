{
 "cells": [
  {
   "cell_type": "code",
   "execution_count": 1,
   "metadata": {},
   "outputs": [],
   "source": [
    "%matplotlib inline\n",
    "import numpy as np\n",
    "import matplotlib.pyplot as plt\n",
    "import scipy as sp\n",
    "from scipy.integrate import odeint\n",
    "import networkx as nx\n",
    "\n",
    "from scipy import stats\n",
    "\n",
    "import pybel as pb\n",
    "import json\n",
    "import time\n",
    "import csv\n",
    "\n",
    "import torch\n",
    "import pyro\n",
    "\n",
    "from bel2scm import graph_node as cn\n",
    "from bel2scm import gen_test_data as td\n",
    "from bel2scm import causal_graph as cg\n",
    "\n",
    "pyro.set_rng_seed(101)\n",
    "torch.set_default_tensor_type(torch.DoubleTensor)"
   ]
  },
  {
   "cell_type": "code",
   "execution_count": 2,
   "metadata": {},
   "outputs": [],
   "source": [
    "tot_data = td.data_gen(10000)"
   ]
  },
  {
   "cell_type": "markdown",
   "metadata": {},
   "source": [
    "# Unit Tests"
   ]
  },
  {
   "cell_type": "code",
   "execution_count": 3,
   "metadata": {},
   "outputs": [
    {
     "name": "stdout",
     "output_type": "stream",
     "text": [
      "The causal graph is a acyclic\n",
      "False\n",
      "\n",
      "[sum_{temp,rainy} [sum_{} [sum_{cloudy,rainy,icream} P(temp,cloudy,rainy,icream)]][sum_{}P(rainy|cloudy)][sum_{} [sum_{cloudy} P(cloudy|temp)P(icream|cloudy,rainy,temp)]]]\n",
      "\n",
      "[[sum_{rainy} [sum_{}P(rainy|cloudy)][sum_{} [sum_{cloudy} P(cloudy|temp)P(icream|cloudy,rainy,temp)]]]]/[ sum_{icream}[sum_{rainy} [sum_{}P(rainy|cloudy)][sum_{} [sum_{cloudy} P(cloudy|temp)P(icream|cloudy,rainy,temp)]]]]\n"
     ]
    }
   ],
   "source": [
    "# Unit Test in icream graph\n",
    "\n",
    "str_list = ['temp =| cloudy','cloudy => rainy','temp => icream','rainy =| icream']\n",
    "type_dict = {}\n",
    "type_dict['temp'] = 'continuous'\n",
    "type_dict['cloudy'] = 'continuous'\n",
    "type_dict['rainy'] = 'continuous'\n",
    "type_dict['icream'] = 'continuous'\n",
    "graph_test = cg.str_graph(str_list=str_list,graph_type='SCM',type_dict=type_dict)\n",
    "graph_test.add_confound([['icream','cloudy']])\n",
    "\n",
    "print(graph_test.d_sep(['icream'],['cloudy'],['rainy','temp']))\n",
    "#Ans: False\n",
    "print()\n",
    "print(graph_test.id_alg(['icream'],['cloudy']))\n",
    "#Ans: P_{cloudy}(icream) = sum_{rainy} P(rainy|cloudy) sum_{cloudy}′P(icream|cloudy',rainy)P(cloudy')\n",
    "print()\n",
    "\n",
    "print(graph_test.idc_alg(['icream'],['cloudy'],['temp']))\n",
    "#Ans: P_{cloudy}(icream|temp) = [sum_{rainy} P(rainy|cloudy,temp) sum_{cloudy'} P(icream|cloudy',rainy,temp)P(cloudy'|temp)]  \n",
    "# /[sum_{rainy,icream} P(rainy|cloudy,temp) sum_{cloudy'}P(icream|cloudy',rainy,temp)P(cloudy'|temp)]"
   ]
  },
  {
   "cell_type": "code",
   "execution_count": 4,
   "metadata": {},
   "outputs": [
    {
     "name": "stdout",
     "output_type": "stream",
     "text": [
      "The causal graph is a acyclic\n",
      "False\n",
      "\n",
      "[sum_{W,D,Z,V} [sum_{}P(W|X)][sum_{} [sum_{X,W,Z,Y,V} P(X,W,D,Z,Y,V)]][sum_{}P(Z|D,V)][sum_{} [sum_{X} P(Y|X,V,W,D,Z)P(X)]][sum_{} [sum_{X,W,D,Z,Y} P(X,W,D,Z,Y,V)]]]\n",
      "\n",
      "[[sum_{D,Z,V} [sum_{} [sum_{X,W,Z,Y,V} P(X,W,D,Z,Y,V)]][sum_{}P(Z|D,V)][sum_{} [sum_{X} P(Y|X,V,W,D,Z)P(X)]][sum_{} [sum_{X,W,D,Z,Y} P(X,W,D,Z,Y,V)]]]]/[ sum_{Y}[sum_{D,Z,V} [sum_{} [sum_{X,W,Z,Y,V} P(X,W,D,Z,Y,V)]][sum_{}P(Z|D,V)][sum_{} [sum_{X} P(Y|X,V,W,D,Z)P(X)]][sum_{} [sum_{X,W,D,Z,Y} P(X,W,D,Z,Y,V)]]]]\n",
      "\n",
      "[[sum_{W,D,Z} [sum_{}P(W|X)][sum_{} [sum_{X,W,Z,Y,V} P(X,W,D,Z,Y,V)]][sum_{}P(Z|D,V)][sum_{} [sum_{X} P(Y|X,V,W,D,Z)P(X)]]]]/[ sum_{Y}[sum_{W,D,Z} [sum_{}P(W|X)][sum_{} [sum_{X,W,Z,Y,V} P(X,W,D,Z,Y,V)]][sum_{}P(Z|D,V)][sum_{} [sum_{X} P(Y|X,V,W,D,Z)P(X)]]]]\n"
     ]
    }
   ],
   "source": [
    "# Unit Test in XYZ Graph\n",
    "\n",
    "str_list = ['X =| W','D => Z','W => Y','Z =| Y','V =| Z']\n",
    "type_dict = {}\n",
    "type_dict['X'] = 'continuous'\n",
    "type_dict['W'] = 'continuous'\n",
    "type_dict['D'] = 'continuous'\n",
    "type_dict['Z'] = 'continuous'\n",
    "type_dict['Y'] = 'continuous'\n",
    "type_dict['V'] = 'continuous'\n",
    "\n",
    "graph_test = cg.str_graph(str_list=str_list,graph_type='SCM',type_dict=type_dict)\n",
    "graph_test.add_confound([['X','Y']])\n",
    "\n",
    "print(graph_test.d_sep(['D'], ['Z'],['Y']))\n",
    "# Ans: True\n",
    "print()\n",
    "print(graph_test.id_alg(['Y'],['X']))\n",
    "# Ans: P_X(Y) = sum_W P(W|X) sum_X' P(Y|X',W)P(X')\n",
    "print()\n",
    "print(graph_test.idc_alg(['Y'],['X'],['W']))\n",
    "# Ans: P_X(Y|W) = [sum_{D,V,Z} P(Z|D,V) P(V) P(D) sum_X' P(Y|D,V,W,X′,Z) P(X'|D,V,Z)]\n",
    "#/[sum_{D,V,Z,Y} P(Z|D,V) P(V) P(D) sum_x' P(Y|D,V,W,X′,Z) P(X'|D,V,Z)]\n",
    "print()\n",
    "print(graph_test.idc_alg(['Y'],['X'],['V']))\n",
    "# Ans: P_X(Y|V) = [sum_{W,D,Z} P(W|X)P(D) P(Z|D,V)[sum_{X} P(X')P(Y|X',V,W,D,Z)]]\n",
    "#/[sum_{W,D,Z,Y} P(W|X)P(D) P(Z|D,V)[sum_{X'} P(X)P(Y|X',V,W,D,Z)]]\n",
    "\n",
    "# Note that the code doesn't automatically put in the ' for summation/dummy variables - you have to\n",
    "# infer this from the nested brackets; summation only applies to items inside the summation sign"
   ]
  },
  {
   "cell_type": "code",
   "execution_count": 5,
   "metadata": {},
   "outputs": [
    {
     "name": "stdout",
     "output_type": "stream",
     "text": [
      "The causal graph is a acyclic\n",
      "Y\n",
      "['X*', 'Z*', 'D']\n",
      "Z\n",
      "['D']\n"
     ]
    }
   ],
   "source": [
    "# Unit Test in XYZ Graph from Shpitser thesis and paper\n",
    "\n",
    "str_list = ['X =| W','D => Z','W => Y','Z =| Y']\n",
    "type_dict = {}\n",
    "type_dict['X'] = 'continuous'\n",
    "type_dict['W'] = 'continuous'\n",
    "type_dict['D'] = 'continuous'\n",
    "type_dict['Z'] = 'continuous'\n",
    "type_dict['Y'] = 'continuous'\n",
    "\n",
    "graph_test = cg.str_graph(str_list=str_list,graph_type='SCM',type_dict=type_dict)\n",
    "graph_test.add_confound([['X','Y']])\n",
    "\n",
    "\n",
    "do_temp = [['Y',['X*','Z*','D']],['Z',['D']]]\n",
    "obs_temp = ['X','D']\n",
    "\n",
    "do_temp2 = [['Y',['X*','Z*']]]\n",
    "obs_temp2 = ['X']\n",
    "\n",
    "do_gam = [['Y',['X*']]]\n",
    "do_del = [['Z',['D']]]\n",
    "obs_del = ['X','D']\n",
    "\n",
    "\n",
    "do_temp3 = [['Y', ['X*', 'Z*']], ['W', ['X*','Z*']]]\n",
    "obs_temp3 = ['Z', 'X']\n",
    "\n",
    "def plot_graph(dag, confounders, filename, layout='dot'):\n",
    "    labels = dict([(node,node) for node in dag.nodes])\n",
    "    if layout == 'dot':\n",
    "        pos = nx.drawing.nx_pydot.graphviz_layout(dag, prog=\"dot\")\n",
    "    else:\n",
    "        pos = nx.kamada_kawai_layout(dag)\n",
    "    fig = plt.figure()\n",
    "    nx.draw(dag, pos, labels=labels, width=4, font_size=8)\n",
    "    nx.draw(confounders, pos, labels=labels, font_size=8)\n",
    "    fig.savefig(filename)\n",
    "    plt.show()\n",
    "\n",
    "def cf2latex(cf_variables):\n",
    "    latex = []\n",
    "    for cf, do in cf_variables:\n",
    "        latex.append('%s_{%s}' % (cf, ','.join(do)))\n",
    "    return ','.join(latex)\n",
    "\n",
    "for cf, do in do_temp:\n",
    "    print(cf)\n",
    "    print(do)"
   ]
  },
  {
   "cell_type": "code",
   "execution_count": 35,
   "metadata": {},
   "outputs": [
    {
     "data": {
      "text/plain": [
       "['Y_{X*,Z*}', 'X', 'D', 'Z']"
      ]
     },
     "execution_count": 35,
     "metadata": {},
     "output_type": "execute_result"
    }
   ],
   "source": [
    "gamma_cg"
   ]
  },
  {
   "cell_type": "code",
   "execution_count": 6,
   "metadata": {
    "scrolled": false
   },
   "outputs": [
    {
     "data": {
      "text/latex": [
       "$$P(Y_{X*,Z*,D},Z_{D})$$"
      ],
      "text/plain": [
       "<display.Latex object at 0x7f9b1c517730>"
      ]
     },
     "metadata": {},
     "output_type": "display_data"
    },
    {
     "data": {
      "text/latex": [
       "$$P(Y_{X*,Z*,D},Z_{D},X,D) = P(Y_{X*,Z*},X,D,Z)$$"
      ],
      "text/plain": [
       "<display.Latex object at 0x7f9ae02b1df0>"
      ]
     },
     "metadata": {},
     "output_type": "display_data"
    },
    {
     "name": "stdout",
     "output_type": "stream",
     "text": [
      "sum_{W}P(Y_{Z*,W},X)P(D)P(Z_{D})P(W_{X*})\n",
      "Ans: \n",
      "sum_{W}P(Y_{Z*,W},X)P(D)P(Z_{D})P(W_{X*})\n",
      "\n"
     ]
    },
    {
     "data": {
      "text/latex": [
       "$$P(Y_{X*,Z*},X) = P(Y_{X*,Z*},X)$$"
      ],
      "text/plain": [
       "<display.Latex object at 0x7f9b1c668d30>"
      ]
     },
     "metadata": {},
     "output_type": "display_data"
    },
    {
     "name": "stdout",
     "output_type": "stream",
     "text": [
      "sum_{W}P(Y_{Z*,W},X)P(W_{X*})\n",
      "Ans: \n",
      "sum_{W}P(Y_{Z*,W},X)P(W_{X*})\n",
      "\n"
     ]
    },
    {
     "data": {
      "text/latex": [
       "$$P(Y_{X*},Z_{D}|X,D) = P(Y_{X*},X,D,Z)$$"
      ],
      "text/plain": [
       "<display.Latex object at 0x7f9b1c59f270>"
      ]
     },
     "metadata": {},
     "output_type": "display_data"
    },
    {
     "name": "stdout",
     "output_type": "stream",
     "text": [
      "[sum_{W}P(Y_{Z,W},X)P(W_{X*})]/[sum_{Y}[sum_{W}P(Y_{Z,W},X)P(W_{X*})]]\n",
      "Ans: \n",
      "[sum_{W}P(Y_{Z,W},X)P(W_{X*})]/[sum_{Y}[sum_{W}P(Y_{Z,W},X)P(W_{X*})]]\n",
      "\n"
     ]
    },
    {
     "data": {
      "text/latex": [
       "$$P(Y_{X*,Z*},W_{X*,Z*}, Z,X)= P(W_{X*},Y_{X*,Z*},X,Z)$$"
      ],
      "text/plain": [
       "<display.Latex object at 0x7f9ae02591f0>"
      ]
     },
     "metadata": {},
     "output_type": "display_data"
    },
    {
     "name": "stdout",
     "output_type": "stream",
     "text": [
      "sum_{D}P(Y_{Z*,W},X)P(D)P(Z_{D})P(W_{X*})\n",
      "Ans: \n",
      "sum_{D}P(Y_{Z*,W},X)P(D)P(Z_{D})P(W_{X*})\n"
     ]
    }
   ],
   "source": [
    "    \n",
    "from IPython.display import Latex\n",
    " \n",
    "display(Latex('$$P(%s)$$' % cf2latex(do_temp)))\n",
    "g_pw,c_pw = graph_test.make_pw_graph(do_temp)\n",
    "plot_graph(g_pw, c_pw, 'parallel_worlds.png')\n",
    "\n",
    "\n",
    "dag_cg, confounder_cg, gamma_cg  = graph_test.make_cf_graph( do_temp, obs_temp)  \n",
    "display(Latex(\"$$P(%s,%s) = P(%s)$$\" % (cf2latex(do_temp), ','.join(obs_temp), ','.join(gamma_cg))))\n",
    "plot_graph(dag_cg, confounder_cg, 'cg1.png')\n",
    "print(graph_test.id_star_alg(do_temp,obs_temp))\n",
    "print( \"Ans: \\nsum_{W}P(Y_{Z*,W},X)P(D)P(Z_{D})P(W_{X*})\")\n",
    "print()\n",
    "dag_cg2, confounder_cg2, gamma_cg2  = graph_test.make_cf_graph( do_temp2, obs_temp2)  \n",
    "display(Latex(\"$$P(%s,%s) = P(%s)$$\" % (cf2latex(do_temp2), ','.join(obs_temp2), ','.join(gamma_cg2))))\n",
    "plot_graph(dag_cg2, confounder_cg2, 'cg2.png')\n",
    "print(graph_test.id_star_alg(do_temp2,obs_temp2))\n",
    "print( \"Ans: \\nsum_{W}P(Y_{Z*,W},X)P(W_{X*})\")\n",
    "print()\n",
    "\n",
    "dag_gam, confounder_gam, gamma_gam  = graph_test.make_cf_graph( do_del + do_gam, obs_del)  \n",
    "display(Latex(\"$$P(%s|%s) = P(%s)$$\" % (cf2latex(do_gam + do_del), ','.join(obs_del), ','.join(gamma_gam))))\n",
    "plot_graph(dag_gam, confounder_gam, 'cgc.png')\n",
    "print(graph_test.idc_star_alg(do_gam,do_del,[],obs_del))\n",
    "print(\"Ans: \\n[sum_{W}P(Y_{Z,W},X)P(W_{X*})]/[sum_{Y}[sum_{W}P(Y_{Z,W},X)P(W_{X*})]]\")\n",
    "print()\n",
    "dag3, confounders3, gamma3 = graph_test.make_cf_graph( do_temp3, obs_temp3)\n",
    "display(Latex(\"$$P(%s, %s)= P(%s)$$\" % (cf2latex(do_temp3), ','.join(obs_temp3), ','.join(gamma3 ))))\n",
    "plot_graph(dag3, confounders3, 'cg3.png')\n",
    "print(graph_test.id_star_alg(do_temp3,obs_temp3))\n",
    "print(\"Ans: \\nsum_{D}P(Y_{Z*,W},X)P(D)P(Z_{D})P(W_{X*})\")"
   ]
  },
  {
   "cell_type": "markdown",
   "metadata": {},
   "source": [
    "Parallel Worlds Graph: <img src=\"shpitser_pw_graph.png\">\n",
    "Counterfactual Graph<img src=\"shpitser_cf_graph.png\">"
   ]
  },
  {
   "cell_type": "markdown",
   "metadata": {},
   "source": [
    "$$P'=\\sum_wP_{z,w}(y,x')P_x(w) = \\sum_wP(y_{z,w}, x_{z,w}')P(w_x) = \\sum_wP(y_{z,w}, x')P(w_x)$$"
   ]
  },
  {
   "cell_type": "markdown",
   "metadata": {},
   "source": []
  }
 ],
 "metadata": {
  "kernelspec": {
   "display_name": "Python 3",
   "language": "python",
   "name": "python3"
  },
  "language_info": {
   "codemirror_mode": {
    "name": "ipython",
    "version": 3
   },
   "file_extension": ".py",
   "mimetype": "text/x-python",
   "name": "python",
   "nbconvert_exporter": "python",
   "pygments_lexer": "ipython3",
   "version": "3.7.4"
  },
  "latex_envs": {
   "LaTeX_envs_menu_present": false,
   "autoclose": false,
   "autocomplete": false,
   "bibliofile": "biblio.bib",
   "cite_by": "apalike",
   "current_citInitial": 1,
   "eqLabelWithNumbers": true,
   "eqNumInitial": 1,
   "hotkeys": {
    "equation": "Ctrl-E",
    "itemize": "Ctrl-I"
   },
   "labels_anchors": false,
   "latex_user_defs": false,
   "report_style_numbering": true,
   "user_envs_cfg": false
  },
  "toc": {
   "base_numbering": 1,
   "nav_menu": {},
   "number_sections": true,
   "sideBar": true,
   "skip_h1_title": false,
   "title_cell": "Table of Contents",
   "title_sidebar": "Contents",
   "toc_cell": false,
   "toc_position": {},
   "toc_section_display": true,
   "toc_window_display": false
  }
 },
 "nbformat": 4,
 "nbformat_minor": 2
}
