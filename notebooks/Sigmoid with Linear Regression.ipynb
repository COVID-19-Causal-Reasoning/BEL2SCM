{
 "cells": [
  {
   "cell_type": "code",
   "execution_count": 1,
   "metadata": {},
   "outputs": [],
   "source": [
    "import statistics\n",
    "from collections import defaultdict\n",
    "from tqdm.notebook import tqdm\n",
    "\n",
    "import pyro\n",
    "import torch\n",
    "import pandas as pd\n",
    "import numpy as np\n",
    "import matplotlib.pyplot as plt\n",
    "torch.manual_seed(7)\n",
    "pyro.set_rng_seed(0)\n",
    "np.random.seed(19680801)\n",
    "\n",
    "from pyro.infer import SVI, Trace_ELBO, Importance, EmpiricalMarginal\n",
    "import torch.distributions.constraints as constraints\n",
    "from pyro.optim import Adam\n",
    "import time\n",
    "# Constants\n",
    "MAX_ABUNDANCE = 100"
   ]
  },
  {
   "cell_type": "code",
   "execution_count": 2,
   "metadata": {},
   "outputs": [
    {
     "name": "stdout",
     "output_type": "stream",
     "text": [
      "Thu Dec 17 22:29:42 2020\n"
     ]
    }
   ],
   "source": [
    "print(time.asctime())"
   ]
  },
  {
   "cell_type": "code",
   "execution_count": 3,
   "metadata": {},
   "outputs": [],
   "source": [
    "# load data\n",
    "data_path = \"../Tests/Data/mapk3000.csv\"\n",
    "\n",
    "data = pd.read_csv(data_path)\n",
    "num_samples = data.shape[0]\n",
    "\n",
    "single_interaction_data = data[[\"a(p(Mek))\",\"a(p(Erk))\"]]\n",
    "single_interaction_data.to_csv(\"../Tests/Data/single_interaction_data.csv\")\n",
    "\n",
    "parent = single_interaction_data[\"a(p(Mek))\"].to_numpy()\n",
    "target = single_interaction_data[\"a(p(Erk))\"].to_numpy()"
   ]
  },
  {
   "cell_type": "code",
   "execution_count": 4,
   "metadata": {},
   "outputs": [],
   "source": [
    "\n",
    "# # Log transformation\n",
    "def transform_target_to_log(target):\n",
    "    return np.log(target / (MAX_ABUNDANCE - target))\n",
    "\n",
    "\n",
    "\n",
    "target_transformed_to_log = transform_target_to_log(target)\n",
    "\n",
    "\n",
    "Features = np.vstack([parent, np.ones(len(parent))]).T\n"
   ]
  },
  {
   "cell_type": "code",
   "execution_count": 5,
   "metadata": {},
   "outputs": [],
   "source": [
    "# Linear Regression - get slope and intercept\n",
    "w, b = np.linalg.lstsq(Features, target_transformed_to_log, rcond=None)[0]\n"
   ]
  },
  {
   "cell_type": "code",
   "execution_count": 6,
   "metadata": {},
   "outputs": [
    {
     "data": {
      "text/plain": [
       "(0.012194037707409228, 0.946018143974357)"
      ]
     },
     "execution_count": 6,
     "metadata": {},
     "output_type": "execute_result"
    }
   ],
   "source": [
    "w, b"
   ]
  },
  {
   "cell_type": "code",
   "execution_count": 7,
   "metadata": {},
   "outputs": [
    {
     "data": {
      "text/plain": [
       "0.1868105258728995"
      ]
     },
     "execution_count": 7,
     "metadata": {},
     "output_type": "execute_result"
    }
   ],
   "source": [
    "np.exp(-1*(0.012194037707409228*60 + 0.946018143974357))"
   ]
  },
  {
   "cell_type": "code",
   "execution_count": 8,
   "metadata": {},
   "outputs": [
    {
     "data": {
      "text/plain": [
       "2.38035345554559"
      ]
     },
     "execution_count": 8,
     "metadata": {},
     "output_type": "execute_result"
    }
   ],
   "source": [
    "denominator = 1+np.exp(-1*(0.012194037707409228*60 + 0.946018143974357 -2))\n",
    "denominator"
   ]
  },
  {
   "cell_type": "code",
   "execution_count": 9,
   "metadata": {},
   "outputs": [
    {
     "data": {
      "text/plain": [
       "42.0105677024673"
      ]
     },
     "execution_count": 9,
     "metadata": {},
     "output_type": "execute_result"
    }
   ],
   "source": [
    "MAX_ABUNDANCE / denominator"
   ]
  },
  {
   "cell_type": "code",
   "execution_count": 10,
   "metadata": {},
   "outputs": [
    {
     "name": "stdout",
     "output_type": "stream",
     "text": [
      "[83.60167356 86.53634856 83.43381645 84.42050169 85.66090416 82.22011114]\n",
      "[82 91 79 87 86 81]\n"
     ]
    }
   ],
   "source": [
    "\n",
    "\n",
    "# sigmoid function\n",
    "def sigmoid(x, w, b):\n",
    "    return MAX_ABUNDANCE / (1 + np.exp(-1*(w*x + b)))\n",
    "\n",
    "predicted_target = sigmoid(parent, w, b)\n",
    "print(predicted_target[:6])\n",
    "\n",
    "print(target[:6])"
   ]
  },
  {
   "cell_type": "code",
   "execution_count": 11,
   "metadata": {},
   "outputs": [],
   "source": [
    "def test_sigmoid(c):\n",
    "    return MAX_ABUNDANCE / (1 + np.exp(-1*(c)))"
   ]
  },
  {
   "cell_type": "code",
   "execution_count": 12,
   "metadata": {},
   "outputs": [
    {
     "name": "stdout",
     "output_type": "stream",
     "text": [
      "100.0\n",
      "100.0\n",
      "100.0\n"
     ]
    }
   ],
   "source": [
    "print(test_sigmoid(80))\n",
    "print(test_sigmoid(82))\n",
    "print(test_sigmoid(84))"
   ]
  },
  {
   "cell_type": "code",
   "execution_count": 13,
   "metadata": {},
   "outputs": [
    {
     "name": "stdout",
     "output_type": "stream",
     "text": [
      "Mean squared error on train: 13.276608518288601\n"
     ]
    }
   ],
   "source": [
    "\n",
    "# Report mean squared error\n",
    "\n",
    "mse = np.square(np.subtract(target, predicted_target)).mean()\n",
    "\n",
    "print(\"Mean squared error on train:\", mse)"
   ]
  },
  {
   "cell_type": "markdown",
   "metadata": {},
   "source": [
    "### Regression line in log space"
   ]
  },
  {
   "cell_type": "code",
   "execution_count": 14,
   "metadata": {},
   "outputs": [
    {
     "data": {
      "image/png": "[encoded data removed]",
      "text/plain": [
       "<Figure size 432x288 with 1 Axes>"
      ]
     },
     "metadata": {
      "needs_background": "light"
     },
     "output_type": "display_data"
    }
   ],
   "source": [
    "_ = plt.plot(parent, target_transformed_to_log, 'o', label='Original data', markersize=10)\n",
    "_ = plt.plot(parent, w*parent + b, 'r', label='Fitted line')\n",
    "_ = plt.legend()\n",
    "plt.show()"
   ]
  },
  {
   "cell_type": "markdown",
   "metadata": {},
   "source": [
    "### Regression line in actual space "
   ]
  },
  {
   "cell_type": "code",
   "execution_count": 15,
   "metadata": {},
   "outputs": [
    {
     "data": {
      "image/png": "[encoded data removed]",
      "text/plain": [
       "<Figure size 432x288 with 1 Axes>"
      ]
     },
     "metadata": {
      "needs_background": "light"
     },
     "output_type": "display_data"
    }
   ],
   "source": [
    "_ = plt.plot(parent, target, 'o', label='Original data', markersize=10)\n",
    "_ = plt.plot(parent, predicted_target, 'r', label='Fitted line')\n",
    "_ = plt.legend()\n",
    "plt.show()"
   ]
  },
  {
   "cell_type": "markdown",
   "metadata": {},
   "source": [
    "### get residual and parent statistics"
   ]
  },
  {
   "cell_type": "code",
   "execution_count": 16,
   "metadata": {},
   "outputs": [
    {
     "name": "stdout",
     "output_type": "stream",
     "text": [
      "2.2139925169162327\n"
     ]
    }
   ],
   "source": [
    "residual_std = np.abs(np.subtract(target, predicted_target)).std()\n",
    "print(residual_std)\n",
    "\n",
    "parent_mean = parent.mean()\n",
    "parent_std = parent.std()"
   ]
  },
  {
   "cell_type": "code",
   "execution_count": 17,
   "metadata": {},
   "outputs": [],
   "source": [
    "residual_ratio = (target / predicted_target).mean()"
   ]
  },
  {
   "cell_type": "markdown",
   "metadata": {},
   "source": [
    "### Define Pyro model"
   ]
  },
  {
   "cell_type": "code",
   "execution_count": 18,
   "metadata": {},
   "outputs": [],
   "source": [
    "\n",
    "# sigmoid with noise\n",
    "def sigmoid_with_residual_noise(x, w, b, noise):\n",
    "    return MAX_ABUNDANCE / (1 + np.exp(-1*(w*x + b + noise)))\n",
    "\n",
    "# pyro model\n",
    "def model(n_erk):\n",
    "    noise = pyro.sample(\"n_Erk\", n_erk)\n",
    "    mek = pyro.sample(\"Mek\", pyro.distributions.Normal(parent_mean, parent_std))\n",
    "    \n",
    "#     erk_mean = sigmoid_with_residual_noise(mek.detach().numpy(), w, b, noise.detach().numpy())\n",
    "    erk_mean = sigmoid(mek.detach().numpy(), w, b)+noise\n",
    "    erk = pyro.sample(\"Erk\", pyro.distributions.Normal(torch.tensor(erk_mean), torch.tensor(1.0)))\n",
    "    return mek,erk"
   ]
  },
  {
   "cell_type": "code",
   "execution_count": 19,
   "metadata": {},
   "outputs": [
    {
     "name": "stderr",
     "output_type": "stream",
     "text": [
      "<ipython-input-18-60a34a83e451>:12: UserWarning: To copy construct from a tensor, it is recommended to use sourceTensor.clone().detach() or sourceTensor.clone().detach().requires_grad_(True), rather than torch.tensor(sourceTensor).\n",
      "  erk = pyro.sample(\"Erk\", pyro.distributions.Normal(torch.tensor(erk_mean), torch.tensor(1.0)))\n"
     ]
    }
   ],
   "source": [
    "n_erk = pyro.distributions.Normal(torch.tensor(0.0), torch.tensor(residual_std))\n",
    "samples = torch.tensor([model(n_erk) for _ in range(3000)])"
   ]
  },
  {
   "cell_type": "code",
   "execution_count": 20,
   "metadata": {},
   "outputs": [
    {
     "data": {
      "text/plain": [
       "tensor([[61.4891, 85.7318],\n",
       "        [56.9296, 83.6164],\n",
       "        [68.0103, 85.6858],\n",
       "        [59.7416, 83.5066],\n",
       "        [69.5237, 82.7713],\n",
       "        [59.9163, 84.8907],\n",
       "        [54.4825, 81.7419],\n",
       "        [68.5970, 89.6000],\n",
       "        [70.4643, 85.0132],\n",
       "        [63.0600, 82.2781],\n",
       "        [55.6156, 84.8776],\n",
       "        [50.3923, 84.1032],\n",
       "        [60.2942, 82.3006],\n",
       "        [62.9474, 82.9857],\n",
       "        [57.9096, 82.8131],\n",
       "        [64.2721, 84.1288],\n",
       "        [62.9762, 89.3530],\n",
       "        [69.5159, 86.7979],\n",
       "        [57.8115, 82.7848],\n",
       "        [70.8067, 84.5031]], dtype=torch.float64)"
      ]
     },
     "execution_count": 20,
     "metadata": {},
     "output_type": "execute_result"
    }
   ],
   "source": [
    "samples[:20]"
   ]
  },
  {
   "cell_type": "code",
   "execution_count": 21,
   "metadata": {},
   "outputs": [
    {
     "name": "stdout",
     "output_type": "stream",
     "text": [
      "89.82253937405616\n",
      "76.45268778841701\n",
      "66.32163244842576\n",
      "42.0105677024673\n"
     ]
    }
   ],
   "source": [
    "print(sigmoid_with_residual_noise(60, w, b, 0.5))\n",
    "print(sigmoid_with_residual_noise(60, w, b, -0.5))\n",
    "print(sigmoid_with_residual_noise(60, w, b, -1))\n",
    "print(sigmoid_with_residual_noise(60, w, b, -2))"
   ]
  },
  {
   "cell_type": "code",
   "execution_count": 22,
   "metadata": {},
   "outputs": [
    {
     "data": {
      "text/plain": [
       "(0.012194037707409228, 0.946018143974357)"
      ]
     },
     "execution_count": 22,
     "metadata": {},
     "output_type": "execute_result"
    }
   ],
   "source": [
    "w, b"
   ]
  },
  {
   "cell_type": "markdown",
   "metadata": {},
   "source": [
    "### Generated samples Vs. Original Data"
   ]
  },
  {
   "cell_type": "code",
   "execution_count": 23,
   "metadata": {},
   "outputs": [
    {
     "data": {
      "image/png": "[encoded data removed]",
      "text/plain": [
       "<Figure size 432x288 with 1 Axes>"
      ]
     },
     "metadata": {
      "needs_background": "light"
     },
     "output_type": "display_data"
    }
   ],
   "source": [
    "_ = plt.plot(parent, target, 'o', label='Original data', markersize=10)\n",
    "_ = plt.plot(samples[:,0], samples[:,1], 'o', label='Samples from pyro model')\n",
    "_ = plt.legend()\n",
    "plt.show()"
   ]
  },
  {
   "cell_type": "markdown",
   "metadata": {},
   "source": [
    "## Counterfactual Inference"
   ]
  },
  {
   "cell_type": "code",
   "execution_count": 24,
   "metadata": {},
   "outputs": [],
   "source": [
    "\n",
    "def infer_using_svi(conditioned_model, n_erk):\n",
    "\n",
    "    def guide(n_erk):\n",
    "        mu_constraints = constraints.interval(0., 5.)\n",
    "        sigma_constraints = constraints.interval(.1, 7.)\n",
    "        mu_guide = pyro.param(\"mu_n_Erk\", torch.tensor(0.0), constraint=mu_constraints)\n",
    "        sigma_guide = pyro.param(\"sigma_n_Erk\", torch.tensor(residual_std),\n",
    "                                     constraint=sigma_constraints)\n",
    "        pyro.sample(\"n_Erk\", pyro.distributions.Normal(mu_guide, sigma_guide))\n",
    "\n",
    "    pyro.clear_param_store()\n",
    "\n",
    "    svi = SVI(\n",
    "        model=conditioned_model,\n",
    "        guide=guide,\n",
    "        optim=Adam({\"lr\": 0.0005, \"betas\": (0.95, 0.999)}),\n",
    "        loss=Trace_ELBO(retain_graph=True)\n",
    "    )\n",
    "    losses = []\n",
    "    num_steps = 1000\n",
    "    samples = defaultdict(list)\n",
    "    for t in tqdm(range(num_steps)):\n",
    "        loss = svi.step(n_erk)\n",
    "        #print(t, loss)\n",
    "        losses.append(loss)\n",
    "        mu = 'mu_n_Erk'\n",
    "        sigma = 'sigma_n_Erk'\n",
    "        samples[mu].append(pyro.param(mu).item())\n",
    "        samples[sigma].append(pyro.param(sigma).item())\n",
    "    means = {k: statistics.mean(v) for k, v in samples.items()}\n",
    "\n",
    "    updated_noise = {}\n",
    "    updated_noise = pyro.distributions.Normal(means[\"mu_n_Erk\"], means[\"sigma_n_Erk\"])\n",
    "\n",
    "    return updated_noise, losses"
   ]
  },
  {
   "cell_type": "code",
   "execution_count": 25,
   "metadata": {},
   "outputs": [],
   "source": [
    "def counterfactual_inference(intervened_mek):\n",
    "    n_erk = pyro.distributions.Normal(0.0, torch.tensor(residual_std))\n",
    "\n",
    "    # Generate a sample\n",
    "    observed_mek, observed_erk = model(n_erk)\n",
    "\n",
    "    print(\"Observed Mek:\", observed_mek, \"Observed Erk:\", observed_erk)\n",
    "    print(\"What would happen to Erk if Mek was\", intervened_mek, \"?\")\n",
    "    conditioned_model = pyro.condition(model, data={\"Mek\": observed_mek, \"Erk\": observed_erk})\n",
    "    updated_n_erk = infer_using_svi(conditioned_model, n_erk)\n",
    "\n",
    "    intervention_model = pyro.do(model, data={\"Mek\":torch.tensor(intervened_mek)})\n",
    "    return intervention_model, updated_n_erk[0]"
   ]
  },
  {
   "cell_type": "code",
   "execution_count": 26,
   "metadata": {},
   "outputs": [
    {
     "name": "stdout",
     "output_type": "stream",
     "text": [
      "Observed Mek: tensor(61.7590) Observed Erk: tensor(88.3985, dtype=torch.float64)\n",
      "What would happen to Erk if Mek was 60.0 ?\n"
     ]
    },
    {
     "name": "stderr",
     "output_type": "stream",
     "text": [
      "<ipython-input-18-60a34a83e451>:12: UserWarning: To copy construct from a tensor, it is recommended to use sourceTensor.clone().detach() or sourceTensor.clone().detach().requires_grad_(True), rather than torch.tensor(sourceTensor).\n",
      "  erk = pyro.sample(\"Erk\", pyro.distributions.Normal(torch.tensor(erk_mean), torch.tensor(1.0)))\n"
     ]
    },
    {
     "data": {
      "application/vnd.jupyter.widget-view+json": {
       "model_id": "0c39747f7323488a98a992ce389beea4",
       "version_major": 2,
       "version_minor": 0
      },
      "text/plain": [
       "HBox(children=(HTML(value=''), FloatProgress(value=0.0, max=1000.0), HTML(value='')))"
      ]
     },
     "metadata": {},
     "output_type": "display_data"
    },
    {
     "name": "stdout",
     "output_type": "stream",
     "text": [
      "\n",
      "Observed Mek: tensor(66.5967) Observed Erk: tensor(85.8043, dtype=torch.float64)\n",
      "What would happen to Erk if Mek was 80.0 ?\n"
     ]
    },
    {
     "data": {
      "application/vnd.jupyter.widget-view+json": {
       "model_id": "8b556736e3d848ebb21044566d64b1f2",
       "version_major": 2,
       "version_minor": 0
      },
      "text/plain": [
       "HBox(children=(HTML(value=''), FloatProgress(value=0.0, max=1000.0), HTML(value='')))"
      ]
     },
     "metadata": {},
     "output_type": "display_data"
    },
    {
     "name": "stdout",
     "output_type": "stream",
     "text": [
      "\n"
     ]
    }
   ],
   "source": [
    "intervened_model_1, noise_1 = counterfactual_inference(60.)\n",
    "intervened_model_2, noise_2 = counterfactual_inference(80.)\n",
    "\n",
    "counterfactual_erk_1 = torch.tensor([intervened_model_1(noise_1)[1] for _ in range(1000)])\n",
    "counterfactual_erk_2 = torch.tensor([intervened_model_2(noise_2)[1] for _ in range(1000)])"
   ]
  },
  {
   "cell_type": "code",
   "execution_count": 27,
   "metadata": {},
   "outputs": [
    {
     "data": {
      "text/plain": [
       "(Normal(loc: 5.877471754111438e-38, scale: 2.2079570293426514),\n",
       " Normal(loc: 5.877471754111438e-38, scale: 2.2226152420043945))"
      ]
     },
     "execution_count": 27,
     "metadata": {},
     "output_type": "execute_result"
    }
   ],
   "source": [
    "noise_1, noise_2"
   ]
  },
  {
   "cell_type": "code",
   "execution_count": 28,
   "metadata": {},
   "outputs": [
    {
     "name": "stdout",
     "output_type": "stream",
     "text": [
      "tensor([81.1827, 87.5503, 86.4231, 88.0284, 78.1632, 85.8330, 88.8836, 85.5052,\n",
      "        85.2543, 84.3440])\n",
      "tensor([87.9966, 85.6225, 91.6403, 84.3464, 88.6346, 84.9627, 87.4882, 84.0983,\n",
      "        87.6374, 85.9124])\n"
     ]
    }
   ],
   "source": [
    "print(counterfactual_erk_1[:10])\n",
    "print(counterfactual_erk_2[:10])"
   ]
  },
  {
   "cell_type": "code",
   "execution_count": 29,
   "metadata": {},
   "outputs": [
    {
     "name": "stdout",
     "output_type": "stream",
     "text": [
      "Counterfactual Erk when Mek = 60:: Mean tensor(84.2577) tensor(2.5393)\n",
      "Counterfactual Erk when Mek = 80:: Mean tensor(87.3197) tensor(2.4001)\n"
     ]
    }
   ],
   "source": [
    "print(\"Counterfactual Erk when Mek = 60:: Mean\", counterfactual_erk_1.mean(), counterfactual_erk_1.std())\n",
    "print(\"Counterfactual Erk when Mek = 80:: Mean\", counterfactual_erk_2.mean(), counterfactual_erk_2.std())"
   ]
  }
 ],
 "metadata": {
  "kernelspec": {
   "display_name": "Python 3",
   "language": "python",
   "name": "python3"
  },
  "language_info": {
   "codemirror_mode": {
    "name": "ipython",
    "version": 3
   },
   "file_extension": ".py",
   "mimetype": "text/x-python",
   "name": "python",
   "nbconvert_exporter": "python",
   "pygments_lexer": "ipython3",
   "version": "3.8.6"
  }
 },
 "nbformat": 4,
 "nbformat_minor": 4
}
