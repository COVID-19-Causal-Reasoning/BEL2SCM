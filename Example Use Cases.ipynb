{
 "cells": [
  {
   "cell_type": "code",
   "execution_count": 1,
   "metadata": {},
   "outputs": [
    {
     "ename": "IndentationError",
     "evalue": "expected an indented block (causal_graph.py, line 874)",
     "output_type": "error",
     "traceback": [
      "Traceback \u001b[0;36m(most recent call last)\u001b[0m:\n",
      "  File \u001b[1;32m\"/Users/zuck016/.pyenv/versions/anaconda3-2019.10/lib/python3.7/site-packages/IPython/core/interactiveshell.py\"\u001b[0m, line \u001b[1;32m3326\u001b[0m, in \u001b[1;35mrun_code\u001b[0m\n    exec(code_obj, self.user_global_ns, self.user_ns)\n",
      "\u001b[0;36m  File \u001b[0;32m\"<ipython-input-1-87dadfad5b67>\"\u001b[0;36m, line \u001b[0;32m19\u001b[0;36m, in \u001b[0;35m<module>\u001b[0;36m\u001b[0m\n\u001b[0;31m    from bel2scm import causal_graph as cg\u001b[0m\n",
      "\u001b[0;36m  File \u001b[0;32m\"/Users/zuck016/Projects/Proposals/MARS/Pathogenesis/Covid-19-Causal-Reasoning/bel2scm/bel2scm/causal_graph.py\"\u001b[0;36m, line \u001b[0;32m874\u001b[0m\n\u001b[0;31m    gamma_temp = [item for item in s_sets[0] if 'U^{' not in item]\u001b[0m\n\u001b[0m             ^\u001b[0m\n\u001b[0;31mIndentationError\u001b[0m\u001b[0;31m:\u001b[0m expected an indented block\n"
     ]
    }
   ],
   "source": [
    "import numpy as np\n",
    "import matplotlib.pyplot as plt\n",
    "import scipy as sp\n",
    "from scipy.integrate import odeint\n",
    "import networkx as nx\n",
    "\n",
    "from scipy import stats\n",
    "\n",
    "import pybel as pb\n",
    "import json\n",
    "import time\n",
    "import csv\n",
    "\n",
    "import torch\n",
    "import pyro\n",
    "\n",
    "from bel2scm import graph_node as cn\n",
    "from bel2scm import gen_test_data as td\n",
    "from bel2scm import causal_graph as cg\n",
    "\n",
    "pyro.set_rng_seed(101)\n",
    "torch.set_default_tensor_type(torch.DoubleTensor)"
   ]
  },
  {
   "cell_type": "code",
   "execution_count": null,
   "metadata": {
    "collapsed": true
   },
   "outputs": [],
   "source": [
    "tot_data = td.data_gen(10000)"
   ]
  },
  {
   "cell_type": "markdown",
   "metadata": {},
   "source": [
    "# Unit Tests"
   ]
  },
  {
   "cell_type": "code",
   "execution_count": null,
   "metadata": {
    "collapsed": true
   },
   "outputs": [],
   "source": [
    "# Unit Test in icream graph\n",
    "\n",
    "str_list = ['temp =| cloudy','cloudy => rainy','temp => icream','rainy =| icream']\n",
    "type_dict = {}\n",
    "type_dict['temp'] = 'continuous'\n",
    "type_dict['cloudy'] = 'continuous'\n",
    "type_dict['rainy'] = 'continuous'\n",
    "type_dict['icream'] = 'continuous'\n",
    "graph_test = cg.str_graph(str_list=str_list,graph_type='SCM',type_dict=type_dict)\n",
    "graph_test.add_confound([['icream','cloudy']])\n",
    "\n",
    "print(graph_test.d_sep(['icream'],['cloudy'],['rainy','temp'],[]))\n",
    "#Ans: False\n",
    "\n",
    "print(graph_test.id_alg(['icream'],['cloudy']))\n",
    "#Ans: P_{cloudy}(icream) = sum_{rainy} P(rainy|cloudy) sum_{cloudy}′P(icream|cloudy',rainy)P(cloudy')\n",
    "\n",
    "\n",
    "print(graph_test.idc_alg(['icream'],['cloudy'],['temp']))\n",
    "#Ans: P_{cloudy}(icream|temp) = [sum_{rainy} P(rainy|cloudy,temp) sum_{cloudy'} P(icream|cloudy',rainy,temp)P(cloudy'|temp)]  \n",
    "# /[sum_{rainy,icream} P(rainy|cloudy,temp) sum_{cloudy'}P(icream|cloudy',rainy,temp)P(cloudy'|temp)]"
   ]
  },
  {
   "cell_type": "code",
   "execution_count": null,
   "metadata": {
    "collapsed": true
   },
   "outputs": [],
   "source": [
    "# Unit Test in XYZ Graph\n",
    "\n",
    "str_list = ['X =| W','D => Z','W => Y','Z =| Y','V =| Z']\n",
    "type_dict = {}\n",
    "type_dict['X'] = 'continuous'\n",
    "type_dict['W'] = 'continuous'\n",
    "type_dict['D'] = 'continuous'\n",
    "type_dict['Z'] = 'continuous'\n",
    "type_dict['Y'] = 'continuous'\n",
    "type_dict['V'] = 'continuous'\n",
    "\n",
    "graph_test = cg.str_graph(str_list=str_list,graph_type='SCM',type_dict=type_dict)\n",
    "graph_test.add_confound([['X','Y']])\n",
    "\n",
    "print(graph_test.d_sep(['D'], ['Z'],['Y']))\n",
    "# Ans: True\n",
    "\n",
    "print(graph_test.id_alg(['Y'],['X']))\n",
    "# Ans: P_X(Y) = sum_W P(W|X) sum_X' P(Y|X',W)P(X')\n",
    "\n",
    "print(graph_test.idc_alg(['Y'],['X'],['W']))\n",
    "# Ans: P_X(Y|W) = [sum_{D,V,Z} P(Z|D,V) P(V) P(D) sum_X' P(Y|D,V,W,X′,Z) P(X'|D,V,Z)]\n",
    "#/[sum_{D,V,Z,Y} P(Z|D,V) P(V) P(D) sum_x' P(Y|D,V,W,X′,Z) P(X'|D,V,Z)]"
   ]
  },
  {
   "cell_type": "code",
   "execution_count": null,
   "metadata": {
    "collapsed": true
   },
   "outputs": [],
   "source": [
    "# Unit Test in XYZ Graph from Shpitser thesis and paper\n",
    "\n",
    "str_list = ['X =| W','D => Z','W => Y','Z =| Y']\n",
    "type_dict = {}\n",
    "type_dict['X'] = 'continuous'\n",
    "type_dict['W'] = 'continuous'\n",
    "type_dict['D'] = 'continuous'\n",
    "type_dict['Z'] = 'continuous'\n",
    "type_dict['Y'] = 'continuous'\n",
    "\n",
    "graph_test = str_graph(str_list=str_list,graph_type='SCM',type_dict=type_dict)\n",
    "graph_test.add_confound([['X','Y']])\n",
    "\n",
    "\n",
    "do_temp = [['Y',['X*','Z*','D']],['Z',['D']]]\n",
    "obs_temp = ['X','D']\n",
    "\n",
    "do_temp2 = [['Y',['X*','Z*','D']]]\n",
    "obs_temp2 = ['X']\n",
    "\n",
    "do_gam = [['Y',['X*']]]\n",
    "do_del = [['Z',['D']]]\n",
    "obs_del = ['X','D']\n",
    "\n",
    "\n",
    "g_temp,c_temp = graph_test.make_pw_graph(do_temp)\n",
    "pos = nx.kamada_kawai_layout(g_temp)    \n",
    "dict_temp = {}\n",
    "for item in g_temp.nodes:\n",
    "    dict_temp[item] = item\n",
    "    \n",
    "plt.figure()\n",
    "nx.draw(g_temp,pos,labels=dict_temp,width=4,font_size=8)\n",
    "nx.draw(c_temp,pos,labels=dict_temp,font_size=8)\n",
    "plt.show()\n",
    "\n",
    "g_temp,c_temp,gamma_temp = graph_test.make_cf_graph(do_temp,obs_temp)\n",
    "pos = nx.circular_layout(g_temp)    \n",
    "dict_temp = {}\n",
    "for item in g_temp.nodes:\n",
    "    dict_temp[item] = item\n",
    "    \n",
    "plt.figure()\n",
    "nx.draw(g_temp,pos,labels=dict_temp,width=4,font_size=8)\n",
    "nx.draw(c_temp,pos,labels=dict_temp,font_size=8)\n",
    "plt.show()\n",
    "\n",
    "print(graph_test.id_star_alg(do_temp2,obs_temp2))\n",
    "# Ans: sum_{W}P_{Z*,W*}(Y,X)P_{X*}(W)\n",
    "\n",
    "print(graph_test.idc_star_alg(do_gam,do_del,[],obs_del))\n",
    "# Ans: [sum_{W}P_{Z,D,W*}(Y,X)P_{X*}(W)]/[sum_{Y}[sum_{W}P_{Z,D,W*}(Y,X)P_{X*}(W)]]"
   ]
  },
  {
   "cell_type": "markdown",
   "metadata": {},
   "source": [
    "Parallel Worlds Graph: <img src=\"shpitser_pw_graph.png\">\n",
    "Counterfactual Graph<img src=\"shpitser_cf_graph.png\">"
   ]
  },
  {
   "cell_type": "code",
   "execution_count": null,
   "metadata": {
    "collapsed": true
   },
   "outputs": [],
   "source": []
  }
 ],
 "metadata": {
  "kernelspec": {
   "display_name": "Python 3",
   "language": "python",
   "name": "python3"
  },
  "language_info": {
   "codemirror_mode": {
    "name": "ipython",
    "version": 3
   },
   "file_extension": ".py",
   "mimetype": "text/x-python",
   "name": "python",
   "nbconvert_exporter": "python",
   "pygments_lexer": "ipython3",
   "version": "3.7.4"
  },
  "latex_envs": {
   "LaTeX_envs_menu_present": false,
   "autoclose": false,
   "autocomplete": false,
   "bibliofile": "biblio.bib",
   "cite_by": "apalike",
   "current_citInitial": 1,
   "eqLabelWithNumbers": true,
   "eqNumInitial": 1,
   "hotkeys": {
    "equation": "Ctrl-E",
    "itemize": "Ctrl-I"
   },
   "labels_anchors": false,
   "latex_user_defs": false,
   "report_style_numbering": true,
   "user_envs_cfg": false
  },
  "toc": {
   "base_numbering": 1,
   "nav_menu": {},
   "number_sections": true,
   "sideBar": true,
   "skip_h1_title": false,
   "title_cell": "Table of Contents",
   "title_sidebar": "Contents",
   "toc_cell": false,
   "toc_position": {},
   "toc_section_display": true,
   "toc_window_display": false
  }
 },
 "nbformat": 4,
 "nbformat_minor": 2
}
