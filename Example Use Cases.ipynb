{
 "cells": [
  {
   "cell_type": "code",
   "execution_count": 1,
   "metadata": {},
   "outputs": [],
   "source": [
    "import numpy as np\n",
    "import matplotlib.pyplot as plt\n",
    "import scipy as sp\n",
    "from scipy.integrate import odeint\n",
    "import networkx as nx\n",
    "\n",
    "from scipy import stats\n",
    "\n",
    "import pybel as pb\n",
    "import json\n",
    "import time\n",
    "import csv\n",
    "\n",
    "import torch\n",
    "import pyro\n",
    "\n",
    "from bel2scm import graph_node as cn\n",
    "from bel2scm import gen_test_data as td\n",
    "from bel2scm import causal_graph as cg\n",
    "\n",
    "pyro.set_rng_seed(101)\n",
    "torch.set_default_tensor_type(torch.DoubleTensor)"
   ]
  },
  {
   "cell_type": "code",
   "execution_count": 4,
   "metadata": {},
   "outputs": [],
   "source": [
    "tot_data = td.data_gen(10000)"
   ]
  },
  {
   "cell_type": "markdown",
   "metadata": {},
   "source": [
    "# Initialize Graph from BEL Statements"
   ]
  },
  {
   "cell_type": "code",
   "execution_count": 3,
   "metadata": {},
   "outputs": [],
   "source": [
    "str_list = ['temp =| cloudy','cloudy => rainy','temp => icream','rainy =| icream']\n",
    "type_dict = {}\n",
    "type_dict['temp'] = 'continuous'\n",
    "type_dict['cloudy'] = 'continuous'\n",
    "type_dict['rainy'] = 'continuous'\n",
    "type_dict['icream'] = 'continuous'\n"
   ]
  },
  {
   "cell_type": "code",
   "execution_count": 4,
   "metadata": {},
   "outputs": [
    {
     "name": "stdout",
     "output_type": "stream",
     "text": [
      "The causal graph is a acyclic\n"
     ]
    }
   ],
   "source": [
    "graph_test = cg.cg_graph(str_list=str_list,type_dict=type_dict,only_creases=False)"
   ]
  },
  {
   "cell_type": "markdown",
   "metadata": {},
   "source": [
    "# Initialize Graph from json File"
   ]
  },
  {
   "cell_type": "code",
   "execution_count": 5,
   "metadata": {},
   "outputs": [
    {
     "name": "stdout",
     "output_type": "stream",
     "text": [
      "The causal graph is a acyclic\n"
     ]
    }
   ],
   "source": [
    "graph_test = cg.cg_graph(json_file='./bel2scm/sample_data/icream.txt',type_dict=type_dict)"
   ]
  },
  {
   "cell_type": "markdown",
   "metadata": {},
   "source": [
    "# Initialize Graph from PyBEL graph"
   ]
  },
  {
   "cell_type": "code",
   "execution_count": 6,
   "metadata": {},
   "outputs": [],
   "source": [
    "# bel_temp = pb.from_bel_script('./bel2scm/sample_data/sag_beL_graph.txt')"
   ]
  },
  {
   "cell_type": "code",
   "execution_count": 7,
   "metadata": {},
   "outputs": [],
   "source": [
    "# graph_test = cg.cg_graph(bel_graph=bel_temp)"
   ]
  },
  {
   "cell_type": "markdown",
   "metadata": {},
   "source": [
    "# Test Various Graph Capabilities"
   ]
  },
  {
   "cell_type": "markdown",
   "metadata": {},
   "source": [
    "## Write to file that Can be Read by Causal Fusion"
   ]
  },
  {
   "cell_type": "code",
   "execution_count": 8,
   "metadata": {},
   "outputs": [
    {
     "name": "stderr",
     "output_type": "stream",
     "text": [
      "/home/somya/miniconda3/lib/python3.7/site-packages/networkx/drawing/layout.py:923: FutureWarning: arrays to stack must be passed as a \"sequence\" type such as list or tuple. Support for non-sequence iterables such as generators is deprecated as of NumPy 1.16 and will raise an error in the future.\n",
      "  pos = np.row_stack((pos[x] for x in node_list))\n"
     ]
    }
   ],
   "source": [
    "graph_test.write_to_cf('test',100)"
   ]
  },
  {
   "cell_type": "markdown",
   "metadata": {},
   "source": [
    "## Initialize Graph Probabilities"
   ]
  },
  {
   "cell_type": "code",
   "execution_count": 9,
   "metadata": {
    "scrolled": true
   },
   "outputs": [
    {
     "name": "stdout",
     "output_type": "stream",
     "text": [
      "temp\n",
      "tensor(2.7520)\n",
      "\n",
      "cloudy\n",
      "tensor(-0.2666, grad_fn=<NegBackward>)\n",
      "\n",
      "icream\n",
      "tensor(16.8239, grad_fn=<NegBackward>)\n",
      "\n",
      "rainy\n",
      "tensor(-1.8582, grad_fn=<NegBackward>)\n",
      "\n",
      "['temp']\n"
     ]
    }
   ],
   "source": [
    "graph_test.prob_init(tot_data)\n",
    "print(graph_test.exog_list)"
   ]
  },
  {
   "cell_type": "markdown",
   "metadata": {},
   "source": [
    "## Inspect Graph Properties"
   ]
  },
  {
   "cell_type": "code",
   "execution_count": 10,
   "metadata": {},
   "outputs": [
    {
     "name": "stdout",
     "output_type": "stream",
     "text": [
      "temp\n",
      "temp\n",
      "continuous\n",
      "\n",
      "cloudy\n",
      "cloudy\n",
      "continuous\n",
      "\n",
      "icream\n",
      "icream\n",
      "continuous\n",
      "\n",
      "rainy\n",
      "rainy\n",
      "continuous\n",
      "\n"
     ]
    }
   ],
   "source": [
    "for item in graph_test.node_dict:\n",
    "    print(item)\n",
    "    print(graph_test.node_dict[item].name)\n",
    "    print(graph_test.node_dict[item].node_type)\n",
    "    print()"
   ]
  },
  {
   "cell_type": "code",
   "execution_count": 11,
   "metadata": {
    "scrolled": true
   },
   "outputs": [
    {
     "name": "stdout",
     "output_type": "stream",
     "text": [
      "tensor(26.1867)\n",
      "[]\n",
      "tensor(1.3320)\n",
      "[]\n",
      "\n",
      "tensor([0.2666, 0.6749], requires_grad=True)\n",
      "tensor([[-0.0059]], requires_grad=True)\n",
      "tensor([0.6993, 1.2256], requires_grad=True)\n",
      "tensor([[-0.0153]], requires_grad=True)\n",
      "\n",
      "tensor([0.0761, 1.4155, 0.0801], requires_grad=True)\n",
      "tensor([[-1.9553e-02, -3.9454e+00],\n",
      "        [ 2.0017e+01,  1.9549e+01]], requires_grad=True)\n",
      "tensor([0.0423, 5.2386, 0.0632], requires_grad=True)\n",
      "tensor([[-1.5097e-02,  6.6157e-01],\n",
      "        [ 2.0433e+01,  2.1594e+01]], requires_grad=True)\n",
      "\n",
      "tensor([-0.2090,  0.2986], requires_grad=True)\n",
      "tensor([[0.0809]], requires_grad=True)\n",
      "tensor([-0.9166,  1.2521], requires_grad=True)\n",
      "tensor([[1.0041]], requires_grad=True)\n",
      "\n"
     ]
    }
   ],
   "source": [
    "for item in graph_test.node_dict:\n",
    "    print(graph_test.node_dict[item].alpha_j)\n",
    "    print(graph_test.node_dict[item].alpha_jk)\n",
    "    print(graph_test.node_dict[item].beta_j)\n",
    "    print(graph_test.node_dict[item].beta_jk)\n",
    "    print()"
   ]
  },
  {
   "cell_type": "markdown",
   "metadata": {
    "collapsed": true
   },
   "source": [
    "## Sample the Graph under Various Situations"
   ]
  },
  {
   "cell_type": "code",
   "execution_count": 12,
   "metadata": {
    "scrolled": true
   },
   "outputs": [
    {
     "data": {
      "text/plain": [
       "{'temp': tensor(16.3780),\n",
       " 'cloudy': tensor(0.2291, grad_fn=<SqueezeBackward0>),\n",
       " 'rainy': tensor(0.0046, grad_fn=<SqueezeBackward0>),\n",
       " 'icream': tensor(3.3357, grad_fn=<SqueezeBackward0>)}"
      ]
     },
     "execution_count": 12,
     "metadata": {},
     "output_type": "execute_result"
    }
   ],
   "source": [
    "graph_test.model_sample()"
   ]
  },
  {
   "cell_type": "code",
   "execution_count": 13,
   "metadata": {
    "scrolled": true
   },
   "outputs": [
    {
     "name": "stdout",
     "output_type": "stream",
     "text": [
      "temp\n",
      "tensor(22.8293)\n",
      "\n",
      "cloudy\n",
      "tensor(0.5000)\n",
      "\n",
      "rainy\n",
      "tensor(0.0001, grad_fn=<SqueezeBackward0>)\n",
      "\n",
      "icream\n",
      "tensor(1.1930, grad_fn=<SqueezeBackward0>)\n",
      "\n"
     ]
    }
   ],
   "source": [
    "cond_dict = {}\n",
    "cond_dict['cloudy'] = torch.Tensor([0.5])\n",
    "\n",
    "cond_test = graph_test.model_cond_sample(cond_dict)\n",
    "\n",
    "for item in cond_test:\n",
    "    print(item)\n",
    "    print(cond_test[item])\n",
    "    print()"
   ]
  },
  {
   "cell_type": "code",
   "execution_count": 14,
   "metadata": {},
   "outputs": [
    {
     "name": "stdout",
     "output_type": "stream",
     "text": [
      "temp\n",
      "tensor(14.0725)\n",
      "\n",
      "cloudy\n",
      "tensor(0.1235, grad_fn=<SqueezeBackward0>)\n",
      "\n",
      "rainy\n",
      "tensor(2.5000)\n",
      "\n",
      "icream\n",
      "tensor(0.7328, grad_fn=<SqueezeBackward0>)\n",
      "\n"
     ]
    }
   ],
   "source": [
    "do_dict = {}\n",
    "do_dict['rainy'] = torch.Tensor([2.5])\n",
    "\n",
    "do_test = graph_test.model_do_sample(do_dict)\n",
    "\n",
    "for item in do_test:\n",
    "    print(item)\n",
    "    print(do_test[item])\n",
    "    print()\n",
    "\n"
   ]
  },
  {
   "cell_type": "code",
   "execution_count": 15,
   "metadata": {},
   "outputs": [
    {
     "name": "stdout",
     "output_type": "stream",
     "text": [
      "temp\n",
      "tensor(18.0229)\n",
      "\n",
      "cloudy\n",
      "tensor(0.5000)\n",
      "\n",
      "rainy\n",
      "tensor(2.5000)\n",
      "\n",
      "icream\n",
      "tensor(0.7942, grad_fn=<SqueezeBackward0>)\n",
      "\n"
     ]
    }
   ],
   "source": [
    "do_cond_test = graph_test.model_do_cond_sample(do_dict,cond_dict)\n",
    "for item in do_cond_test:\n",
    "    print(item)\n",
    "    print(do_cond_test[item])\n",
    "    print()"
   ]
  },
  {
   "cell_type": "code",
   "execution_count": 16,
   "metadata": {},
   "outputs": [
    {
     "name": "stdout",
     "output_type": "stream",
     "text": [
      "temp\n",
      "tensor(24.2905)\n",
      "\n",
      "cloudy\n",
      "tensor(0.5170, grad_fn=<SqueezeBackward0>)\n",
      "\n",
      "rainy\n",
      "tensor(1.5000)\n",
      "\n",
      "icream\n",
      "tensor(0.7630, grad_fn=<SqueezeBackward0>)\n",
      "\n"
     ]
    }
   ],
   "source": [
    "obs_dict = {}\n",
    "obs_dict['icream'] = torch.Tensor([0.5])\n",
    "obs_dict['rainy'] = torch.Tensor([0.8])\n",
    "\n",
    "do_dict = {}\n",
    "do_dict['rainy'] = torch.Tensor([1.5])\n",
    "\n",
    "\n",
    "counter_test = graph_test.model_counterfact(obs_dict,do_dict)\n",
    "for item in counter_test:\n",
    "    print(item)\n",
    "    print(counter_test[item])\n",
    "    print()\n"
   ]
  },
  {
   "cell_type": "markdown",
   "metadata": {},
   "source": [
    "## Do Statistical Tests on Data and Model"
   ]
  },
  {
   "cell_type": "code",
   "execution_count": 17,
   "metadata": {
    "scrolled": false
   },
   "outputs": [
    {
     "name": "stdout",
     "output_type": "stream",
     "text": [
      "0.15610234126017097\n"
     ]
    }
   ],
   "source": [
    "print(graph_test.cond_mut_info(['icream'],['rainy'],['temp'],tot_data))"
   ]
  },
  {
   "cell_type": "code",
   "execution_count": 18,
   "metadata": {},
   "outputs": [
    {
     "name": "stdout",
     "output_type": "stream",
     "text": [
      "(tensor(nan), nan)\n"
     ]
    }
   ],
   "source": [
    "a = graph_test.g_test(['icream'],tot_data)\n",
    "print(a)"
   ]
  },
  {
   "cell_type": "markdown",
   "metadata": {},
   "source": [
    "## Calculate Various Effect Levels"
   ]
  },
  {
   "cell_type": "code",
   "execution_count": 20,
   "metadata": {},
   "outputs": [
    {
     "name": "stdout",
     "output_type": "stream",
     "text": [
      "{'icream': -1.0689832039220977}\n"
     ]
    }
   ],
   "source": [
    "do_dict1 = {}\n",
    "do_dict1['cloudy'] = torch.tensor([0.9])\n",
    "do_dict2 = {}\n",
    "do_dict2['cloudy'] = torch.tensor([0.1])\n",
    "\n",
    "target = ['icream']\n",
    "\n",
    "print(graph_test.tot_effect(target,do_dict1,do_dict2,10000))"
   ]
  },
  {
   "cell_type": "code",
   "execution_count": 21,
   "metadata": {},
   "outputs": [
    {
     "name": "stdout",
     "output_type": "stream",
     "text": [
      "{'icream': 0.023117164014903935}\n"
     ]
    }
   ],
   "source": [
    "do_dict3 = {}\n",
    "do_dict3['rainy'] = torch.tensor([2.5])\n",
    "do_dict4 = {}\n",
    "do_dict4['rainy'] = torch.tensor([0.5])\n",
    "\n",
    "med_dict = {}\n",
    "med_dict['temp'] = torch.tensor([25.0])\n",
    "\n",
    "print(graph_test.cd_effect(target,do_dict3,do_dict4,med_dict,10000))"
   ]
  },
  {
   "cell_type": "code",
   "execution_count": 22,
   "metadata": {},
   "outputs": [
    {
     "name": "stdout",
     "output_type": "stream",
     "text": [
      "{'icream': -0.49505771394724296}\n"
     ]
    }
   ],
   "source": [
    "print(graph_test.nd_effect(target,do_dict1,do_dict2,10000))"
   ]
  },
  {
   "cell_type": "code",
   "execution_count": 23,
   "metadata": {},
   "outputs": [
    {
     "name": "stdout",
     "output_type": "stream",
     "text": [
      "{'icream': 2.6659770394411484}\n"
     ]
    }
   ],
   "source": [
    "print(graph_test.ni_effect(target,do_dict1,do_dict2,10000))"
   ]
  },
  {
   "cell_type": "markdown",
   "metadata": {},
   "source": [
    "### testing on covid graph"
   ]
  },
  {
   "cell_type": "code",
   "execution_count": 2,
   "metadata": {},
   "outputs": [
    {
     "name": "stdout",
     "output_type": "stream",
     "text": [
      "The causal graph is a acyclic\n",
      "BEL node type deg not known -- defaulting to continuous\n"
     ]
    }
   ],
   "source": [
    "# bel_temp = pb.from_bel_script('./COVID-19-new.json')\n",
    "graph_test = cg.cg_graph(nano_pub= './COVID-19-new.json')"
   ]
  },
  {
   "cell_type": "code",
   "execution_count": 5,
   "metadata": {},
   "outputs": [
    {
     "ename": "IndexError",
     "evalue": "index 5 is out of bounds for dimension 0 with size 4",
     "output_type": "error",
     "traceback": [
      "\u001b[0;31m---------------------------------------------------------------------------\u001b[0m",
      "\u001b[0;31mIndexError\u001b[0m                                Traceback (most recent call last)",
      "\u001b[0;32m<ipython-input-5-83800869eabd>\u001b[0m in \u001b[0;36m<module>\u001b[0;34m\u001b[0m\n\u001b[1;32m      1\u001b[0m \u001b[0;31m## initialize graph probabilities\u001b[0m\u001b[0;34m\u001b[0m\u001b[0;34m\u001b[0m\u001b[0;34m\u001b[0m\u001b[0m\n\u001b[0;32m----> 2\u001b[0;31m \u001b[0mgraph_test\u001b[0m\u001b[0;34m.\u001b[0m\u001b[0mprob_init\u001b[0m\u001b[0;34m(\u001b[0m\u001b[0mtot_data\u001b[0m\u001b[0;34m)\u001b[0m\u001b[0;34m\u001b[0m\u001b[0;34m\u001b[0m\u001b[0m\n\u001b[0m\u001b[1;32m      3\u001b[0m \u001b[0mprint\u001b[0m\u001b[0;34m(\u001b[0m\u001b[0mgraph_test\u001b[0m\u001b[0;34m.\u001b[0m\u001b[0mexog_list\u001b[0m\u001b[0;34m)\u001b[0m\u001b[0;34m\u001b[0m\u001b[0;34m\u001b[0m\u001b[0m\n",
      "\u001b[0;32m~/bel2scm/bel2scm/causal_graph.py\u001b[0m in \u001b[0;36mprob_init\u001b[0;34m(self, data_in)\u001b[0m\n\u001b[1;32m    260\u001b[0m         \u001b[0;32mfor\u001b[0m \u001b[0mname\u001b[0m \u001b[0;32min\u001b[0m \u001b[0mself\u001b[0m\u001b[0;34m.\u001b[0m\u001b[0mnode_dict\u001b[0m\u001b[0;34m:\u001b[0m\u001b[0;34m\u001b[0m\u001b[0;34m\u001b[0m\u001b[0m\n\u001b[1;32m    261\u001b[0m             \u001b[0mi\u001b[0m \u001b[0;34m=\u001b[0m \u001b[0mself\u001b[0m\u001b[0;34m.\u001b[0m\u001b[0mentity_list\u001b[0m\u001b[0;34m.\u001b[0m\u001b[0mindex\u001b[0m\u001b[0;34m(\u001b[0m\u001b[0mname\u001b[0m\u001b[0;34m)\u001b[0m\u001b[0;34m\u001b[0m\u001b[0;34m\u001b[0m\u001b[0m\n\u001b[0;32m--> 262\u001b[0;31m             \u001b[0mdata_in_temp\u001b[0m \u001b[0;34m=\u001b[0m \u001b[0mdata_in\u001b[0m\u001b[0;34m[\u001b[0m\u001b[0;34m:\u001b[0m\u001b[0;34m,\u001b[0m\u001b[0mself\u001b[0m\u001b[0;34m.\u001b[0m\u001b[0mparent_ind_list\u001b[0m\u001b[0;34m[\u001b[0m\u001b[0mi\u001b[0m\u001b[0;34m]\u001b[0m\u001b[0;34m]\u001b[0m\u001b[0;34m\u001b[0m\u001b[0;34m\u001b[0m\u001b[0m\n\u001b[0m\u001b[1;32m    263\u001b[0m             \u001b[0mdata_out_temp\u001b[0m \u001b[0;34m=\u001b[0m \u001b[0mdata_in\u001b[0m\u001b[0;34m[\u001b[0m\u001b[0;34m:\u001b[0m\u001b[0;34m,\u001b[0m\u001b[0mi\u001b[0m\u001b[0;34m]\u001b[0m\u001b[0;34m\u001b[0m\u001b[0;34m\u001b[0m\u001b[0m\n\u001b[1;32m    264\u001b[0m             \u001b[0mprint\u001b[0m\u001b[0;34m(\u001b[0m\u001b[0mname\u001b[0m\u001b[0;34m)\u001b[0m\u001b[0;34m\u001b[0m\u001b[0;34m\u001b[0m\u001b[0m\n",
      "\u001b[0;31mIndexError\u001b[0m: index 5 is out of bounds for dimension 0 with size 4"
     ]
    }
   ],
   "source": [
    "## initialize graph probabilities\n",
    "graph_test.prob_init(tot_data)\n",
    "print(graph_test.exog_list)"
   ]
  },
  {
   "cell_type": "code",
   "execution_count": null,
   "metadata": {},
   "outputs": [],
   "source": []
  }
 ],
 "metadata": {
  "kernelspec": {
   "display_name": "Python 3",
   "language": "python",
   "name": "python3"
  },
  "language_info": {
   "codemirror_mode": {
    "name": "ipython",
    "version": 3
   },
   "file_extension": ".py",
   "mimetype": "text/x-python",
   "name": "python",
   "nbconvert_exporter": "python",
   "pygments_lexer": "ipython3",
   "version": "3.7.3"
  }
 },
 "nbformat": 4,
 "nbformat_minor": 2
}
