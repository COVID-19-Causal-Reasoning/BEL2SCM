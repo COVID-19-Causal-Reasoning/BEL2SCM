{
 "cells": [
  {
   "cell_type": "code",
   "execution_count": 1,
   "metadata": {
    "collapsed": true
   },
   "outputs": [],
   "source": [
    "import numpy as np\n",
    "import matplotlib.pyplot as plt\n",
    "import scipy as sp\n",
    "from scipy.integrate import odeint\n",
    "import networkx as nx\n",
    "\n",
    "from scipy import stats\n",
    "\n",
    "import pybel as pb\n",
    "import json\n",
    "import time\n",
    "import csv\n",
    "\n",
    "import torch\n",
    "import pyro\n",
    "\n",
    "import pyro_cg\n",
    "\n",
    "pyro.set_rng_seed(101)\n",
    "torch.set_default_tensor_type(torch.DoubleTensor)\n",
    "from torch.utils.data import DataLoader"
   ]
  },
  {
   "cell_type": "code",
   "execution_count": 5,
   "metadata": {},
   "outputs": [
    {
     "name": "stdout",
     "output_type": "stream",
     "text": [
      "torch.Size([10000, 4])\n",
      "torch.float64\n"
     ]
    }
   ],
   "source": [
    "tot_data = pyro_cg.gen_data(10000)"
   ]
  },
  {
   "cell_type": "markdown",
   "metadata": {},
   "source": [
    "# Initialize Graph from BEL Statements"
   ]
  },
  {
   "cell_type": "code",
   "execution_count": 35,
   "metadata": {
    "collapsed": true
   },
   "outputs": [],
   "source": [
    "str_list = ['temp =| cloudy','cloudy => rainy','temp => icream','rainy =| icream']\n",
    "type_dict = {}\n",
    "type_dict['temp'] = 'continuous'\n",
    "type_dict['cloudy'] = 'continuous'\n",
    "type_dict['rainy'] = 'continuous'\n",
    "type_dict['icream'] = 'continuous'\n"
   ]
  },
  {
   "cell_type": "code",
   "execution_count": 40,
   "metadata": {},
   "outputs": [
    {
     "name": "stdout",
     "output_type": "stream",
     "text": [
      "The causal graph is a acyclic\n"
     ]
    }
   ],
   "source": [
    "graph_test = pyro_cg.cg_graph(str_list=str_list,type_dict=type_dict,only_creases=False)"
   ]
  },
  {
   "cell_type": "markdown",
   "metadata": {},
   "source": [
    "# Initialize Graph from json File"
   ]
  },
  {
   "cell_type": "code",
   "execution_count": null,
   "metadata": {
    "collapsed": true
   },
   "outputs": [],
   "source": [
    "graph_test = pyro_cg.cg_graph(json_file='icream.txt',type_dict=type_dict)"
   ]
  },
  {
   "cell_type": "markdown",
   "metadata": {},
   "source": [
    "# Initialize Graph from PyBEL graph"
   ]
  },
  {
   "cell_type": "code",
   "execution_count": null,
   "metadata": {
    "collapsed": true
   },
   "outputs": [],
   "source": [
    "bel_temp = pb.from_bel_script('sag_bel_graph.txt')"
   ]
  },
  {
   "cell_type": "code",
   "execution_count": null,
   "metadata": {
    "collapsed": true
   },
   "outputs": [],
   "source": [
    "graph_test = pyro_cg.cg_graph(bel_graph=bel_temp)"
   ]
  },
  {
   "cell_type": "markdown",
   "metadata": {},
   "source": [
    "# Test Various Graph Capabilities"
   ]
  },
  {
   "cell_type": "markdown",
   "metadata": {},
   "source": [
    "## Write to file that Can be Read by Causal Fusion"
   ]
  },
  {
   "cell_type": "code",
   "execution_count": null,
   "metadata": {
    "collapsed": true
   },
   "outputs": [],
   "source": [
    "graph_test.write_to_cf('test',100)"
   ]
  },
  {
   "cell_type": "markdown",
   "metadata": {},
   "source": [
    "## Initialize Graph Probabilities"
   ]
  },
  {
   "cell_type": "code",
   "execution_count": 41,
   "metadata": {
    "scrolled": true
   },
   "outputs": [
    {
     "name": "stdout",
     "output_type": "stream",
     "text": [
      "temp\n"
     ]
    },
    {
     "data": {
      "image/png": "[encoded data removed]",
      "text/plain": [
       "<Figure size 432x288 with 1 Axes>"
      ]
     },
     "metadata": {},
     "output_type": "display_data"
    },
    {
     "name": "stdout",
     "output_type": "stream",
     "text": [
      "tensor(2.7520)\n",
      "\n",
      "cloudy\n",
      "tensor(-0.2751, grad_fn=<NegBackward>)\n",
      "\n",
      "rainy\n",
      "tensor(1.0858, grad_fn=<NegBackward>)\n",
      "\n",
      "icream\n",
      "tensor(-1.5868, grad_fn=<NegBackward>)\n",
      "\n",
      "['temp']\n"
     ]
    }
   ],
   "source": [
    "graph_test.prob_init(tot_data)\n",
    "print(graph_test.exog_list)"
   ]
  },
  {
   "cell_type": "markdown",
   "metadata": {},
   "source": [
    "## Inspect Graph Properties"
   ]
  },
  {
   "cell_type": "code",
   "execution_count": null,
   "metadata": {
    "collapsed": true
   },
   "outputs": [],
   "source": [
    "for item in graph_test.node_dict:\n",
    "    print(item)\n",
    "    print(graph_test.node_dict[item].name)\n",
    "    print(graph_test.node_dict[item].node_type)\n",
    "    print()"
   ]
  },
  {
   "cell_type": "code",
   "execution_count": null,
   "metadata": {
    "collapsed": true,
    "scrolled": true
   },
   "outputs": [],
   "source": [
    "for item in graph_test.node_dict:\n",
    "    print(graph_test.node_dict[item].alpha_j)\n",
    "    print(graph_test.node_dict[item].alpha_jk)\n",
    "    print(graph_test.node_dict[item].beta_j)\n",
    "    print(graph_test.node_dict[item].beta_jk)\n",
    "    print()"
   ]
  },
  {
   "cell_type": "markdown",
   "metadata": {
    "collapsed": true
   },
   "source": [
    "## Sample the Graph under Various Situations"
   ]
  },
  {
   "cell_type": "code",
   "execution_count": null,
   "metadata": {
    "collapsed": true,
    "scrolled": true
   },
   "outputs": [],
   "source": [
    "graph_test.model_sample()"
   ]
  },
  {
   "cell_type": "code",
   "execution_count": null,
   "metadata": {
    "collapsed": true,
    "scrolled": true
   },
   "outputs": [],
   "source": [
    "cond_dict = {}\n",
    "cond_dict['cloudy'] = torch.Tensor([0.5])\n",
    "\n",
    "cond_test = graph_test.model_cond_sample(cond_dict)\n",
    "\n",
    "for item in cond_test:\n",
    "    print(item)\n",
    "    print(cond_test[item])\n",
    "    print()"
   ]
  },
  {
   "cell_type": "code",
   "execution_count": null,
   "metadata": {
    "collapsed": true
   },
   "outputs": [],
   "source": [
    "do_dict = {}\n",
    "do_dict['rainy'] = torch.Tensor([2.5])\n",
    "\n",
    "do_test = graph_test.model_do_sample(do_dict)\n",
    "\n",
    "for item in do_test:\n",
    "    print(item)\n",
    "    print(do_test[item])\n",
    "    print()\n",
    "\n"
   ]
  },
  {
   "cell_type": "code",
   "execution_count": null,
   "metadata": {
    "collapsed": true
   },
   "outputs": [],
   "source": [
    "do_cond_test = graph_test.model_do_cond_sample(do_dict,cond_dict)\n",
    "for item in do_cond_test:\n",
    "    print(item)\n",
    "    print(do_cond_test[item])\n",
    "    print()"
   ]
  },
  {
   "cell_type": "code",
   "execution_count": null,
   "metadata": {
    "collapsed": true
   },
   "outputs": [],
   "source": [
    "obs_dict = {}\n",
    "obs_dict['icream'] = torch.Tensor([0.5])\n",
    "obs_dict['rainy'] = torch.Tensor([0.8])\n",
    "\n",
    "do_dict = {}\n",
    "do_dict['rainy'] = torch.Tensor([1.5])\n",
    "\n",
    "\n",
    "counter_test = graph_test.model_counterfact(obs_dict,do_dict)\n",
    "for item in counter_test:\n",
    "    print(item)\n",
    "    print(counter_test[item])\n",
    "    print()\n"
   ]
  },
  {
   "cell_type": "markdown",
   "metadata": {},
   "source": [
    "## Do Statistical Tests on Data and Model"
   ]
  },
  {
   "cell_type": "code",
   "execution_count": null,
   "metadata": {
    "collapsed": true,
    "scrolled": false
   },
   "outputs": [],
   "source": [
    "print(graph_test.cond_mut_info(['icream'],['rainy'],['temp'],tot_data))"
   ]
  },
  {
   "cell_type": "code",
   "execution_count": null,
   "metadata": {
    "collapsed": true
   },
   "outputs": [],
   "source": [
    "a = graph_test.g_test(['icream'],tot_data)\n",
    "print(a)"
   ]
  },
  {
   "cell_type": "markdown",
   "metadata": {},
   "source": [
    "## Calculate Various Effect Levels"
   ]
  },
  {
   "cell_type": "code",
   "execution_count": 24,
   "metadata": {},
   "outputs": [
    {
     "name": "stdout",
     "output_type": "stream",
     "text": [
      "{'icream': -0.14961807142301964}\n"
     ]
    }
   ],
   "source": [
    "do_dict1 = {}\n",
    "do_dict1['cloudy'] = torch.tensor([0.9])\n",
    "do_dict2 = {}\n",
    "do_dict2['cloudy'] = torch.tensor([0.1])\n",
    "\n",
    "target = ['icream']\n",
    "\n",
    "print(graph_test.tot_effect(target,do_dict1,do_dict2,10000))"
   ]
  },
  {
   "cell_type": "code",
   "execution_count": 25,
   "metadata": {},
   "outputs": [
    {
     "name": "stdout",
     "output_type": "stream",
     "text": [
      "{'icream': -0.009109595848395088}\n"
     ]
    }
   ],
   "source": [
    "do_dict3 = {}\n",
    "do_dict3['rainy'] = torch.tensor([2.5])\n",
    "do_dict4 = {}\n",
    "do_dict4['rainy'] = torch.tensor([0.5])\n",
    "\n",
    "med_dict = {}\n",
    "med_dict['temp'] = torch.tensor([25.0])\n",
    "\n",
    "print(graph_test.cd_effect(target,do_dict3,do_dict4,med_dict,10000))"
   ]
  },
  {
   "cell_type": "code",
   "execution_count": 32,
   "metadata": {},
   "outputs": [
    {
     "name": "stdout",
     "output_type": "stream",
     "text": [
      "{'icream': -0.141565255393042}\n"
     ]
    }
   ],
   "source": [
    "print(graph_test.nd_effect(target,do_dict1,do_dict2,10000))"
   ]
  },
  {
   "cell_type": "code",
   "execution_count": 42,
   "metadata": {},
   "outputs": [
    {
     "name": "stdout",
     "output_type": "stream",
     "text": [
      "{'icream': -0.08084563648935778}\n"
     ]
    }
   ],
   "source": [
    "print(graph_test.ni_effect(target,do_dict1,do_dict2,10000))"
   ]
  },
  {
   "cell_type": "code",
   "execution_count": null,
   "metadata": {
    "collapsed": true
   },
   "outputs": [],
   "source": []
  }
 ],
 "metadata": {
  "kernelspec": {
   "display_name": "Python 3",
   "language": "python",
   "name": "python3"
  },
  "language_info": {
   "codemirror_mode": {
    "name": "ipython",
    "version": 3
   },
   "file_extension": ".py",
   "mimetype": "text/x-python",
   "name": "python",
   "nbconvert_exporter": "python",
   "pygments_lexer": "ipython3",
   "version": "3.6.10"
  }
 },
 "nbformat": 4,
 "nbformat_minor": 2
}
